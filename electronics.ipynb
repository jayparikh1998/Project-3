{
 "cells": [
  {
   "cell_type": "code",
   "execution_count": 2,
   "metadata": {},
   "outputs": [],
   "source": [
    "# dependencies\n",
    "import requests\n",
    "import json\n",
    "from pymongo import MongoClient\n",
    "from datetime import datetime\n",
    "import psycopg2 # a library that allows you to connect to an existing database\n",
    "from pymongo.mongo_client import MongoClient\n",
    "import pymongo\n",
    "import os\n",
    "import sys"
   ]
  },
  {
   "cell_type": "code",
   "execution_count": 4,
   "metadata": {},
   "outputs": [],
   "source": [
    "# set up the request parameters\n",
    "params = {\n",
    "  'api_key': '34A4C47D32AA4820AA1D5DE410AA7CE8',\n",
    "  'type': 'bestsellers',\n",
    "  'amazon_domain': 'amazon.ca',\n",
    "  'category_id': 'bestsellers_electronics',\n",
    "  'max_page': '5'\n",
    "}"
   ]
  },
  {
   "cell_type": "code",
   "execution_count": 5,
   "metadata": {},
   "outputs": [],
   "source": [
    "# make the http GET request to Rainforest API\n",
    "bestsellers_electronics = requests.get('https://api.rainforestapi.com/request', params)"
   ]
  },
  {
   "cell_type": "code",
   "execution_count": null,
   "metadata": {},
   "outputs": [],
   "source": [
    "# print the JSON response from Rainforest API\n",
    "#print(json.dumps(bestsellers_electronics.json(), indent=4))"
   ]
  }
 ],
 "metadata": {
  "kernelspec": {
   "display_name": "project3",
   "language": "python",
   "name": "python3"
  },
  "language_info": {
   "codemirror_mode": {
    "name": "ipython",
    "version": 3
   },
   "file_extension": ".py",
   "mimetype": "text/x-python",
   "name": "python",
   "nbconvert_exporter": "python",
   "pygments_lexer": "ipython3",
   "version": "3.11.8"
  }
 },
 "nbformat": 4,
 "nbformat_minor": 2
}
